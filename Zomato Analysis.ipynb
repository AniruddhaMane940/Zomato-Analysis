{
 "cells": [
  {
   "cell_type": "markdown",
   "id": "2a3543d0",
   "metadata": {},
   "source": [
    "<img src=https://clipground.com/images/zomato-logo-png-5.jpg style=\"height:100px; width:300px; float: left\">"
   ]
  },
  {
   "cell_type": "markdown",
   "id": "626fc43a",
   "metadata": {},
   "source": [
    "## Importing libraries"
   ]
  },
  {
   "cell_type": "code",
   "execution_count": 1,
   "id": "d8609400",
   "metadata": {},
   "outputs": [],
   "source": [
    "import numpy as np\n",
    "import pandas as pd \n",
    "import seaborn as sns\n",
    "import matplotlib.pyplot as plt"
   ]
  },
  {
   "cell_type": "markdown",
   "id": "add34f4e",
   "metadata": {},
   "source": [
    "## Importing Zomato Dataset and Country Code Dataset"
   ]
  },
  {
   "cell_type": "code",
   "execution_count": 2,
   "id": "314d62c3",
   "metadata": {},
   "outputs": [],
   "source": [
    "zomato=pd.read_csv('zomato.csv',encoding='latin1')\n",
    "countries=pd.read_csv('Country-Code.csv')"
   ]
  },
  {
   "cell_type": "code",
   "execution_count": 3,
   "id": "3887df9c",
   "metadata": {
    "scrolled": true
   },
   "outputs": [
    {
     "data": {
      "text/html": [
       "<div>\n",
       "<style scoped>\n",
       "    .dataframe tbody tr th:only-of-type {\n",
       "        vertical-align: middle;\n",
       "    }\n",
       "\n",
       "    .dataframe tbody tr th {\n",
       "        vertical-align: top;\n",
       "    }\n",
       "\n",
       "    .dataframe thead th {\n",
       "        text-align: right;\n",
       "    }\n",
       "</style>\n",
       "<table border=\"1\" class=\"dataframe\">\n",
       "  <thead>\n",
       "    <tr style=\"text-align: right;\">\n",
       "      <th></th>\n",
       "      <th>Restaurant ID</th>\n",
       "      <th>Restaurant Name</th>\n",
       "      <th>Country Code</th>\n",
       "      <th>City</th>\n",
       "      <th>Address</th>\n",
       "      <th>Locality</th>\n",
       "      <th>Locality Verbose</th>\n",
       "      <th>Longitude</th>\n",
       "      <th>Latitude</th>\n",
       "      <th>Cuisines</th>\n",
       "      <th>...</th>\n",
       "      <th>Currency</th>\n",
       "      <th>Has Table booking</th>\n",
       "      <th>Has Online delivery</th>\n",
       "      <th>Is delivering now</th>\n",
       "      <th>Switch to order menu</th>\n",
       "      <th>Price range</th>\n",
       "      <th>Aggregate rating</th>\n",
       "      <th>Rating color</th>\n",
       "      <th>Rating text</th>\n",
       "      <th>Votes</th>\n",
       "    </tr>\n",
       "  </thead>\n",
       "  <tbody>\n",
       "    <tr>\n",
       "      <th>4408</th>\n",
       "      <td>7329</td>\n",
       "      <td>Green Chick Chop</td>\n",
       "      <td>1</td>\n",
       "      <td>New Delhi</td>\n",
       "      <td>10 &amp; 12, F-7, Main Road, Kalkaji, New Delhi</td>\n",
       "      <td>Kalkaji</td>\n",
       "      <td>Kalkaji, New Delhi</td>\n",
       "      <td>77.253761</td>\n",
       "      <td>28.542175</td>\n",
       "      <td>Raw Meats, North Indian, Fast Food</td>\n",
       "      <td>...</td>\n",
       "      <td>Indian Rupees(Rs.)</td>\n",
       "      <td>No</td>\n",
       "      <td>No</td>\n",
       "      <td>No</td>\n",
       "      <td>No</td>\n",
       "      <td>1</td>\n",
       "      <td>3.2</td>\n",
       "      <td>Orange</td>\n",
       "      <td>Average</td>\n",
       "      <td>26</td>\n",
       "    </tr>\n",
       "  </tbody>\n",
       "</table>\n",
       "<p>1 rows × 21 columns</p>\n",
       "</div>"
      ],
      "text/plain": [
       "      Restaurant ID   Restaurant Name  Country Code       City  \\\n",
       "4408           7329  Green Chick Chop             1  New Delhi   \n",
       "\n",
       "                                          Address Locality  \\\n",
       "4408  10 & 12, F-7, Main Road, Kalkaji, New Delhi  Kalkaji   \n",
       "\n",
       "        Locality Verbose  Longitude   Latitude  \\\n",
       "4408  Kalkaji, New Delhi  77.253761  28.542175   \n",
       "\n",
       "                                Cuisines  ...            Currency  \\\n",
       "4408  Raw Meats, North Indian, Fast Food  ...  Indian Rupees(Rs.)   \n",
       "\n",
       "     Has Table booking Has Online delivery Is delivering now  \\\n",
       "4408                No                  No                No   \n",
       "\n",
       "     Switch to order menu Price range  Aggregate rating  Rating color  \\\n",
       "4408                   No           1               3.2        Orange   \n",
       "\n",
       "     Rating text Votes  \n",
       "4408     Average    26  \n",
       "\n",
       "[1 rows x 21 columns]"
      ]
     },
     "execution_count": 3,
     "metadata": {},
     "output_type": "execute_result"
    }
   ],
   "source": [
    "#sample data from zomato dataset\n",
    "zomato.sample()"
   ]
  },
  {
   "cell_type": "code",
   "execution_count": 32,
   "id": "29d71c45",
   "metadata": {
    "scrolled": true
   },
   "outputs": [
    {
     "data": {
      "text/html": [
       "<div>\n",
       "<style scoped>\n",
       "    .dataframe tbody tr th:only-of-type {\n",
       "        vertical-align: middle;\n",
       "    }\n",
       "\n",
       "    .dataframe tbody tr th {\n",
       "        vertical-align: top;\n",
       "    }\n",
       "\n",
       "    .dataframe thead th {\n",
       "        text-align: right;\n",
       "    }\n",
       "</style>\n",
       "<table border=\"1\" class=\"dataframe\">\n",
       "  <thead>\n",
       "    <tr style=\"text-align: right;\">\n",
       "      <th></th>\n",
       "      <th>Country Code</th>\n",
       "      <th>Country</th>\n",
       "    </tr>\n",
       "  </thead>\n",
       "  <tbody>\n",
       "    <tr>\n",
       "      <th>0</th>\n",
       "      <td>208</td>\n",
       "      <td>Turkey</td>\n",
       "    </tr>\n",
       "    <tr>\n",
       "      <th>1</th>\n",
       "      <td>94</td>\n",
       "      <td>Indonesia</td>\n",
       "    </tr>\n",
       "    <tr>\n",
       "      <th>2</th>\n",
       "      <td>1</td>\n",
       "      <td>India</td>\n",
       "    </tr>\n",
       "    <tr>\n",
       "      <th>3</th>\n",
       "      <td>184</td>\n",
       "      <td>Singapore</td>\n",
       "    </tr>\n",
       "  </tbody>\n",
       "</table>\n",
       "</div>"
      ],
      "text/plain": [
       "   Country Code    Country\n",
       "0           208     Turkey\n",
       "1            94  Indonesia\n",
       "2             1      India\n",
       "3           184  Singapore"
      ]
     },
     "execution_count": 32,
     "metadata": {},
     "output_type": "execute_result"
    }
   ],
   "source": [
    "#sample data from countries dataset\n",
    "countries.sample(4).reset_index(drop=True)"
   ]
  },
  {
   "cell_type": "markdown",
   "id": "7468ea3b",
   "metadata": {},
   "source": [
    "## Merging Zomato and Country Code Dataset"
   ]
  },
  {
   "cell_type": "code",
   "execution_count": 5,
   "id": "2e0a56b9",
   "metadata": {},
   "outputs": [],
   "source": [
    "zomato=pd.merge(zomato,countries,on='Country Code')"
   ]
  },
  {
   "cell_type": "code",
   "execution_count": 6,
   "id": "831581ab",
   "metadata": {},
   "outputs": [
    {
     "data": {
      "text/html": [
       "<div>\n",
       "<style scoped>\n",
       "    .dataframe tbody tr th:only-of-type {\n",
       "        vertical-align: middle;\n",
       "    }\n",
       "\n",
       "    .dataframe tbody tr th {\n",
       "        vertical-align: top;\n",
       "    }\n",
       "\n",
       "    .dataframe thead th {\n",
       "        text-align: right;\n",
       "    }\n",
       "</style>\n",
       "<table border=\"1\" class=\"dataframe\">\n",
       "  <thead>\n",
       "    <tr style=\"text-align: right;\">\n",
       "      <th></th>\n",
       "      <th>Restaurant ID</th>\n",
       "      <th>Restaurant Name</th>\n",
       "      <th>Country Code</th>\n",
       "      <th>City</th>\n",
       "      <th>Address</th>\n",
       "      <th>Locality</th>\n",
       "      <th>Locality Verbose</th>\n",
       "      <th>Longitude</th>\n",
       "      <th>Latitude</th>\n",
       "      <th>Cuisines</th>\n",
       "      <th>...</th>\n",
       "      <th>Has Table booking</th>\n",
       "      <th>Has Online delivery</th>\n",
       "      <th>Is delivering now</th>\n",
       "      <th>Switch to order menu</th>\n",
       "      <th>Price range</th>\n",
       "      <th>Aggregate rating</th>\n",
       "      <th>Rating color</th>\n",
       "      <th>Rating text</th>\n",
       "      <th>Votes</th>\n",
       "      <th>Country</th>\n",
       "    </tr>\n",
       "  </thead>\n",
       "  <tbody>\n",
       "    <tr>\n",
       "      <th>0</th>\n",
       "      <td>6317637</td>\n",
       "      <td>Le Petit Souffle</td>\n",
       "      <td>162</td>\n",
       "      <td>Makati City</td>\n",
       "      <td>Third Floor, Century City Mall, Kalayaan Avenu...</td>\n",
       "      <td>Century City Mall, Poblacion, Makati City</td>\n",
       "      <td>Century City Mall, Poblacion, Makati City, Mak...</td>\n",
       "      <td>121.027535</td>\n",
       "      <td>14.565443</td>\n",
       "      <td>French, Japanese, Desserts</td>\n",
       "      <td>...</td>\n",
       "      <td>Yes</td>\n",
       "      <td>No</td>\n",
       "      <td>No</td>\n",
       "      <td>No</td>\n",
       "      <td>3</td>\n",
       "      <td>4.8</td>\n",
       "      <td>Dark Green</td>\n",
       "      <td>Excellent</td>\n",
       "      <td>314</td>\n",
       "      <td>Phillipines</td>\n",
       "    </tr>\n",
       "    <tr>\n",
       "      <th>1</th>\n",
       "      <td>6304287</td>\n",
       "      <td>Izakaya Kikufuji</td>\n",
       "      <td>162</td>\n",
       "      <td>Makati City</td>\n",
       "      <td>Little Tokyo, 2277 Chino Roces Avenue, Legaspi...</td>\n",
       "      <td>Little Tokyo, Legaspi Village, Makati City</td>\n",
       "      <td>Little Tokyo, Legaspi Village, Makati City, Ma...</td>\n",
       "      <td>121.014101</td>\n",
       "      <td>14.553708</td>\n",
       "      <td>Japanese</td>\n",
       "      <td>...</td>\n",
       "      <td>Yes</td>\n",
       "      <td>No</td>\n",
       "      <td>No</td>\n",
       "      <td>No</td>\n",
       "      <td>3</td>\n",
       "      <td>4.5</td>\n",
       "      <td>Dark Green</td>\n",
       "      <td>Excellent</td>\n",
       "      <td>591</td>\n",
       "      <td>Phillipines</td>\n",
       "    </tr>\n",
       "  </tbody>\n",
       "</table>\n",
       "<p>2 rows × 22 columns</p>\n",
       "</div>"
      ],
      "text/plain": [
       "   Restaurant ID   Restaurant Name  Country Code         City  \\\n",
       "0        6317637  Le Petit Souffle           162  Makati City   \n",
       "1        6304287  Izakaya Kikufuji           162  Makati City   \n",
       "\n",
       "                                             Address  \\\n",
       "0  Third Floor, Century City Mall, Kalayaan Avenu...   \n",
       "1  Little Tokyo, 2277 Chino Roces Avenue, Legaspi...   \n",
       "\n",
       "                                     Locality  \\\n",
       "0   Century City Mall, Poblacion, Makati City   \n",
       "1  Little Tokyo, Legaspi Village, Makati City   \n",
       "\n",
       "                                    Locality Verbose   Longitude   Latitude  \\\n",
       "0  Century City Mall, Poblacion, Makati City, Mak...  121.027535  14.565443   \n",
       "1  Little Tokyo, Legaspi Village, Makati City, Ma...  121.014101  14.553708   \n",
       "\n",
       "                     Cuisines  ...  Has Table booking Has Online delivery  \\\n",
       "0  French, Japanese, Desserts  ...                Yes                  No   \n",
       "1                    Japanese  ...                Yes                  No   \n",
       "\n",
       "  Is delivering now Switch to order menu Price range Aggregate rating  \\\n",
       "0                No                   No           3              4.8   \n",
       "1                No                   No           3              4.5   \n",
       "\n",
       "   Rating color  Rating text Votes      Country  \n",
       "0    Dark Green    Excellent   314  Phillipines  \n",
       "1    Dark Green    Excellent   591  Phillipines  \n",
       "\n",
       "[2 rows x 22 columns]"
      ]
     },
     "execution_count": 6,
     "metadata": {},
     "output_type": "execute_result"
    }
   ],
   "source": [
    "zomato.head(2)"
   ]
  },
  {
   "cell_type": "markdown",
   "id": "516d3f80",
   "metadata": {},
   "source": [
    "## EDA"
   ]
  },
  {
   "cell_type": "code",
   "execution_count": 7,
   "id": "d8c1ff69",
   "metadata": {},
   "outputs": [
    {
     "name": "stdout",
     "output_type": "stream",
     "text": [
      "<class 'pandas.core.frame.DataFrame'>\n",
      "Int64Index: 9551 entries, 0 to 9550\n",
      "Data columns (total 22 columns):\n",
      " #   Column                Non-Null Count  Dtype  \n",
      "---  ------                --------------  -----  \n",
      " 0   Restaurant ID         9551 non-null   int64  \n",
      " 1   Restaurant Name       9551 non-null   object \n",
      " 2   Country Code          9551 non-null   int64  \n",
      " 3   City                  9551 non-null   object \n",
      " 4   Address               9551 non-null   object \n",
      " 5   Locality              9551 non-null   object \n",
      " 6   Locality Verbose      9551 non-null   object \n",
      " 7   Longitude             9551 non-null   float64\n",
      " 8   Latitude              9551 non-null   float64\n",
      " 9   Cuisines              9542 non-null   object \n",
      " 10  Average Cost for two  9551 non-null   int64  \n",
      " 11  Currency              9551 non-null   object \n",
      " 12  Has Table booking     9551 non-null   object \n",
      " 13  Has Online delivery   9551 non-null   object \n",
      " 14  Is delivering now     9551 non-null   object \n",
      " 15  Switch to order menu  9551 non-null   object \n",
      " 16  Price range           9551 non-null   int64  \n",
      " 17  Aggregate rating      9551 non-null   float64\n",
      " 18  Rating color          9551 non-null   object \n",
      " 19  Rating text           9551 non-null   object \n",
      " 20  Votes                 9551 non-null   int64  \n",
      " 21  Country               9551 non-null   object \n",
      "dtypes: float64(3), int64(5), object(14)\n",
      "memory usage: 1.7+ MB\n"
     ]
    }
   ],
   "source": [
    "zomato.info()"
   ]
  },
  {
   "cell_type": "code",
   "execution_count": 8,
   "id": "6b72396d",
   "metadata": {},
   "outputs": [
    {
     "data": {
      "text/plain": [
       "Restaurant ID           0\n",
       "Restaurant Name         0\n",
       "Country Code            0\n",
       "City                    0\n",
       "Address                 0\n",
       "Locality                0\n",
       "Locality Verbose        0\n",
       "Longitude               0\n",
       "Latitude                0\n",
       "Cuisines                9\n",
       "Average Cost for two    0\n",
       "Currency                0\n",
       "Has Table booking       0\n",
       "Has Online delivery     0\n",
       "Is delivering now       0\n",
       "Switch to order menu    0\n",
       "Price range             0\n",
       "Aggregate rating        0\n",
       "Rating color            0\n",
       "Rating text             0\n",
       "Votes                   0\n",
       "Country                 0\n",
       "dtype: int64"
      ]
     },
     "execution_count": 8,
     "metadata": {},
     "output_type": "execute_result"
    }
   ],
   "source": [
    "#Checking for null values\n",
    "zomato.isnull().sum()"
   ]
  },
  {
   "cell_type": "code",
   "execution_count": 9,
   "id": "83f0a2d1",
   "metadata": {},
   "outputs": [
    {
     "data": {
      "text/plain": [
       "9"
      ]
     },
     "execution_count": 9,
     "metadata": {},
     "output_type": "execute_result"
    }
   ],
   "source": [
    "zomato.isnull().sum().sum()"
   ]
  },
  {
   "cell_type": "code",
   "execution_count": 10,
   "id": "dbafa744",
   "metadata": {},
   "outputs": [
    {
     "data": {
      "text/html": [
       "<div>\n",
       "<style scoped>\n",
       "    .dataframe tbody tr th:only-of-type {\n",
       "        vertical-align: middle;\n",
       "    }\n",
       "\n",
       "    .dataframe tbody tr th {\n",
       "        vertical-align: top;\n",
       "    }\n",
       "\n",
       "    .dataframe thead th {\n",
       "        text-align: right;\n",
       "    }\n",
       "</style>\n",
       "<table border=\"1\" class=\"dataframe\">\n",
       "  <thead>\n",
       "    <tr style=\"text-align: right;\">\n",
       "      <th></th>\n",
       "      <th>Restaurant ID</th>\n",
       "      <th>Restaurant Name</th>\n",
       "      <th>Country Code</th>\n",
       "      <th>City</th>\n",
       "      <th>Address</th>\n",
       "      <th>Locality</th>\n",
       "      <th>Locality Verbose</th>\n",
       "      <th>Longitude</th>\n",
       "      <th>Latitude</th>\n",
       "      <th>Cuisines</th>\n",
       "      <th>...</th>\n",
       "      <th>Has Table booking</th>\n",
       "      <th>Has Online delivery</th>\n",
       "      <th>Is delivering now</th>\n",
       "      <th>Switch to order menu</th>\n",
       "      <th>Price range</th>\n",
       "      <th>Aggregate rating</th>\n",
       "      <th>Rating color</th>\n",
       "      <th>Rating text</th>\n",
       "      <th>Votes</th>\n",
       "      <th>Country</th>\n",
       "    </tr>\n",
       "  </thead>\n",
       "  <tbody>\n",
       "    <tr>\n",
       "      <th>count</th>\n",
       "      <td>9.551000e+03</td>\n",
       "      <td>9551</td>\n",
       "      <td>9551.000000</td>\n",
       "      <td>9551</td>\n",
       "      <td>9551</td>\n",
       "      <td>9551</td>\n",
       "      <td>9551</td>\n",
       "      <td>9551.000000</td>\n",
       "      <td>9551.000000</td>\n",
       "      <td>9542</td>\n",
       "      <td>...</td>\n",
       "      <td>9551</td>\n",
       "      <td>9551</td>\n",
       "      <td>9551</td>\n",
       "      <td>9551</td>\n",
       "      <td>9551.000000</td>\n",
       "      <td>9551.000000</td>\n",
       "      <td>9551</td>\n",
       "      <td>9551</td>\n",
       "      <td>9551.000000</td>\n",
       "      <td>9551</td>\n",
       "    </tr>\n",
       "    <tr>\n",
       "      <th>unique</th>\n",
       "      <td>NaN</td>\n",
       "      <td>7446</td>\n",
       "      <td>NaN</td>\n",
       "      <td>141</td>\n",
       "      <td>8918</td>\n",
       "      <td>1208</td>\n",
       "      <td>1265</td>\n",
       "      <td>NaN</td>\n",
       "      <td>NaN</td>\n",
       "      <td>1825</td>\n",
       "      <td>...</td>\n",
       "      <td>2</td>\n",
       "      <td>2</td>\n",
       "      <td>2</td>\n",
       "      <td>1</td>\n",
       "      <td>NaN</td>\n",
       "      <td>NaN</td>\n",
       "      <td>6</td>\n",
       "      <td>6</td>\n",
       "      <td>NaN</td>\n",
       "      <td>15</td>\n",
       "    </tr>\n",
       "    <tr>\n",
       "      <th>top</th>\n",
       "      <td>NaN</td>\n",
       "      <td>Cafe Coffee Day</td>\n",
       "      <td>NaN</td>\n",
       "      <td>New Delhi</td>\n",
       "      <td>Sector 41, Noida</td>\n",
       "      <td>Connaught Place</td>\n",
       "      <td>Connaught Place, New Delhi</td>\n",
       "      <td>NaN</td>\n",
       "      <td>NaN</td>\n",
       "      <td>North Indian</td>\n",
       "      <td>...</td>\n",
       "      <td>No</td>\n",
       "      <td>No</td>\n",
       "      <td>No</td>\n",
       "      <td>No</td>\n",
       "      <td>NaN</td>\n",
       "      <td>NaN</td>\n",
       "      <td>Orange</td>\n",
       "      <td>Average</td>\n",
       "      <td>NaN</td>\n",
       "      <td>India</td>\n",
       "    </tr>\n",
       "    <tr>\n",
       "      <th>freq</th>\n",
       "      <td>NaN</td>\n",
       "      <td>83</td>\n",
       "      <td>NaN</td>\n",
       "      <td>5473</td>\n",
       "      <td>11</td>\n",
       "      <td>122</td>\n",
       "      <td>122</td>\n",
       "      <td>NaN</td>\n",
       "      <td>NaN</td>\n",
       "      <td>936</td>\n",
       "      <td>...</td>\n",
       "      <td>8393</td>\n",
       "      <td>7100</td>\n",
       "      <td>9517</td>\n",
       "      <td>9551</td>\n",
       "      <td>NaN</td>\n",
       "      <td>NaN</td>\n",
       "      <td>3737</td>\n",
       "      <td>3737</td>\n",
       "      <td>NaN</td>\n",
       "      <td>8652</td>\n",
       "    </tr>\n",
       "    <tr>\n",
       "      <th>mean</th>\n",
       "      <td>9.051128e+06</td>\n",
       "      <td>NaN</td>\n",
       "      <td>18.365616</td>\n",
       "      <td>NaN</td>\n",
       "      <td>NaN</td>\n",
       "      <td>NaN</td>\n",
       "      <td>NaN</td>\n",
       "      <td>64.126574</td>\n",
       "      <td>25.854381</td>\n",
       "      <td>NaN</td>\n",
       "      <td>...</td>\n",
       "      <td>NaN</td>\n",
       "      <td>NaN</td>\n",
       "      <td>NaN</td>\n",
       "      <td>NaN</td>\n",
       "      <td>1.804837</td>\n",
       "      <td>2.666370</td>\n",
       "      <td>NaN</td>\n",
       "      <td>NaN</td>\n",
       "      <td>156.909748</td>\n",
       "      <td>NaN</td>\n",
       "    </tr>\n",
       "    <tr>\n",
       "      <th>std</th>\n",
       "      <td>8.791521e+06</td>\n",
       "      <td>NaN</td>\n",
       "      <td>56.750546</td>\n",
       "      <td>NaN</td>\n",
       "      <td>NaN</td>\n",
       "      <td>NaN</td>\n",
       "      <td>NaN</td>\n",
       "      <td>41.467058</td>\n",
       "      <td>11.007935</td>\n",
       "      <td>NaN</td>\n",
       "      <td>...</td>\n",
       "      <td>NaN</td>\n",
       "      <td>NaN</td>\n",
       "      <td>NaN</td>\n",
       "      <td>NaN</td>\n",
       "      <td>0.905609</td>\n",
       "      <td>1.516378</td>\n",
       "      <td>NaN</td>\n",
       "      <td>NaN</td>\n",
       "      <td>430.169145</td>\n",
       "      <td>NaN</td>\n",
       "    </tr>\n",
       "    <tr>\n",
       "      <th>min</th>\n",
       "      <td>5.300000e+01</td>\n",
       "      <td>NaN</td>\n",
       "      <td>1.000000</td>\n",
       "      <td>NaN</td>\n",
       "      <td>NaN</td>\n",
       "      <td>NaN</td>\n",
       "      <td>NaN</td>\n",
       "      <td>-157.948486</td>\n",
       "      <td>-41.330428</td>\n",
       "      <td>NaN</td>\n",
       "      <td>...</td>\n",
       "      <td>NaN</td>\n",
       "      <td>NaN</td>\n",
       "      <td>NaN</td>\n",
       "      <td>NaN</td>\n",
       "      <td>1.000000</td>\n",
       "      <td>0.000000</td>\n",
       "      <td>NaN</td>\n",
       "      <td>NaN</td>\n",
       "      <td>0.000000</td>\n",
       "      <td>NaN</td>\n",
       "    </tr>\n",
       "    <tr>\n",
       "      <th>25%</th>\n",
       "      <td>3.019625e+05</td>\n",
       "      <td>NaN</td>\n",
       "      <td>1.000000</td>\n",
       "      <td>NaN</td>\n",
       "      <td>NaN</td>\n",
       "      <td>NaN</td>\n",
       "      <td>NaN</td>\n",
       "      <td>77.081343</td>\n",
       "      <td>28.478713</td>\n",
       "      <td>NaN</td>\n",
       "      <td>...</td>\n",
       "      <td>NaN</td>\n",
       "      <td>NaN</td>\n",
       "      <td>NaN</td>\n",
       "      <td>NaN</td>\n",
       "      <td>1.000000</td>\n",
       "      <td>2.500000</td>\n",
       "      <td>NaN</td>\n",
       "      <td>NaN</td>\n",
       "      <td>5.000000</td>\n",
       "      <td>NaN</td>\n",
       "    </tr>\n",
       "    <tr>\n",
       "      <th>50%</th>\n",
       "      <td>6.004089e+06</td>\n",
       "      <td>NaN</td>\n",
       "      <td>1.000000</td>\n",
       "      <td>NaN</td>\n",
       "      <td>NaN</td>\n",
       "      <td>NaN</td>\n",
       "      <td>NaN</td>\n",
       "      <td>77.191964</td>\n",
       "      <td>28.570469</td>\n",
       "      <td>NaN</td>\n",
       "      <td>...</td>\n",
       "      <td>NaN</td>\n",
       "      <td>NaN</td>\n",
       "      <td>NaN</td>\n",
       "      <td>NaN</td>\n",
       "      <td>2.000000</td>\n",
       "      <td>3.200000</td>\n",
       "      <td>NaN</td>\n",
       "      <td>NaN</td>\n",
       "      <td>31.000000</td>\n",
       "      <td>NaN</td>\n",
       "    </tr>\n",
       "    <tr>\n",
       "      <th>75%</th>\n",
       "      <td>1.835229e+07</td>\n",
       "      <td>NaN</td>\n",
       "      <td>1.000000</td>\n",
       "      <td>NaN</td>\n",
       "      <td>NaN</td>\n",
       "      <td>NaN</td>\n",
       "      <td>NaN</td>\n",
       "      <td>77.282006</td>\n",
       "      <td>28.642758</td>\n",
       "      <td>NaN</td>\n",
       "      <td>...</td>\n",
       "      <td>NaN</td>\n",
       "      <td>NaN</td>\n",
       "      <td>NaN</td>\n",
       "      <td>NaN</td>\n",
       "      <td>2.000000</td>\n",
       "      <td>3.700000</td>\n",
       "      <td>NaN</td>\n",
       "      <td>NaN</td>\n",
       "      <td>131.000000</td>\n",
       "      <td>NaN</td>\n",
       "    </tr>\n",
       "    <tr>\n",
       "      <th>max</th>\n",
       "      <td>1.850065e+07</td>\n",
       "      <td>NaN</td>\n",
       "      <td>216.000000</td>\n",
       "      <td>NaN</td>\n",
       "      <td>NaN</td>\n",
       "      <td>NaN</td>\n",
       "      <td>NaN</td>\n",
       "      <td>174.832089</td>\n",
       "      <td>55.976980</td>\n",
       "      <td>NaN</td>\n",
       "      <td>...</td>\n",
       "      <td>NaN</td>\n",
       "      <td>NaN</td>\n",
       "      <td>NaN</td>\n",
       "      <td>NaN</td>\n",
       "      <td>4.000000</td>\n",
       "      <td>4.900000</td>\n",
       "      <td>NaN</td>\n",
       "      <td>NaN</td>\n",
       "      <td>10934.000000</td>\n",
       "      <td>NaN</td>\n",
       "    </tr>\n",
       "  </tbody>\n",
       "</table>\n",
       "<p>11 rows × 22 columns</p>\n",
       "</div>"
      ],
      "text/plain": [
       "        Restaurant ID  Restaurant Name  Country Code       City  \\\n",
       "count    9.551000e+03             9551   9551.000000       9551   \n",
       "unique            NaN             7446           NaN        141   \n",
       "top               NaN  Cafe Coffee Day           NaN  New Delhi   \n",
       "freq              NaN               83           NaN       5473   \n",
       "mean     9.051128e+06              NaN     18.365616        NaN   \n",
       "std      8.791521e+06              NaN     56.750546        NaN   \n",
       "min      5.300000e+01              NaN      1.000000        NaN   \n",
       "25%      3.019625e+05              NaN      1.000000        NaN   \n",
       "50%      6.004089e+06              NaN      1.000000        NaN   \n",
       "75%      1.835229e+07              NaN      1.000000        NaN   \n",
       "max      1.850065e+07              NaN    216.000000        NaN   \n",
       "\n",
       "                 Address         Locality            Locality Verbose  \\\n",
       "count               9551             9551                        9551   \n",
       "unique              8918             1208                        1265   \n",
       "top     Sector 41, Noida  Connaught Place  Connaught Place, New Delhi   \n",
       "freq                  11              122                         122   \n",
       "mean                 NaN              NaN                         NaN   \n",
       "std                  NaN              NaN                         NaN   \n",
       "min                  NaN              NaN                         NaN   \n",
       "25%                  NaN              NaN                         NaN   \n",
       "50%                  NaN              NaN                         NaN   \n",
       "75%                  NaN              NaN                         NaN   \n",
       "max                  NaN              NaN                         NaN   \n",
       "\n",
       "          Longitude     Latitude      Cuisines  ...  Has Table booking  \\\n",
       "count   9551.000000  9551.000000          9542  ...               9551   \n",
       "unique          NaN          NaN          1825  ...                  2   \n",
       "top             NaN          NaN  North Indian  ...                 No   \n",
       "freq            NaN          NaN           936  ...               8393   \n",
       "mean      64.126574    25.854381           NaN  ...                NaN   \n",
       "std       41.467058    11.007935           NaN  ...                NaN   \n",
       "min     -157.948486   -41.330428           NaN  ...                NaN   \n",
       "25%       77.081343    28.478713           NaN  ...                NaN   \n",
       "50%       77.191964    28.570469           NaN  ...                NaN   \n",
       "75%       77.282006    28.642758           NaN  ...                NaN   \n",
       "max      174.832089    55.976980           NaN  ...                NaN   \n",
       "\n",
       "       Has Online delivery Is delivering now Switch to order menu  \\\n",
       "count                 9551              9551                 9551   \n",
       "unique                   2                 2                    1   \n",
       "top                     No                No                   No   \n",
       "freq                  7100              9517                 9551   \n",
       "mean                   NaN               NaN                  NaN   \n",
       "std                    NaN               NaN                  NaN   \n",
       "min                    NaN               NaN                  NaN   \n",
       "25%                    NaN               NaN                  NaN   \n",
       "50%                    NaN               NaN                  NaN   \n",
       "75%                    NaN               NaN                  NaN   \n",
       "max                    NaN               NaN                  NaN   \n",
       "\n",
       "        Price range Aggregate rating  Rating color  Rating text         Votes  \\\n",
       "count   9551.000000      9551.000000          9551         9551   9551.000000   \n",
       "unique          NaN              NaN             6            6           NaN   \n",
       "top             NaN              NaN        Orange      Average           NaN   \n",
       "freq            NaN              NaN          3737         3737           NaN   \n",
       "mean       1.804837         2.666370           NaN          NaN    156.909748   \n",
       "std        0.905609         1.516378           NaN          NaN    430.169145   \n",
       "min        1.000000         0.000000           NaN          NaN      0.000000   \n",
       "25%        1.000000         2.500000           NaN          NaN      5.000000   \n",
       "50%        2.000000         3.200000           NaN          NaN     31.000000   \n",
       "75%        2.000000         3.700000           NaN          NaN    131.000000   \n",
       "max        4.000000         4.900000           NaN          NaN  10934.000000   \n",
       "\n",
       "       Country  \n",
       "count     9551  \n",
       "unique      15  \n",
       "top      India  \n",
       "freq      8652  \n",
       "mean       NaN  \n",
       "std        NaN  \n",
       "min        NaN  \n",
       "25%        NaN  \n",
       "50%        NaN  \n",
       "75%        NaN  \n",
       "max        NaN  \n",
       "\n",
       "[11 rows x 22 columns]"
      ]
     },
     "execution_count": 10,
     "metadata": {},
     "output_type": "execute_result"
    }
   ],
   "source": [
    "#statistical summary of data\n",
    "zomato.describe(include='all')"
   ]
  },
  {
   "cell_type": "code",
   "execution_count": 11,
   "id": "8ca09cbf",
   "metadata": {},
   "outputs": [
    {
     "data": {
      "text/html": [
       "<div>\n",
       "<style scoped>\n",
       "    .dataframe tbody tr th:only-of-type {\n",
       "        vertical-align: middle;\n",
       "    }\n",
       "\n",
       "    .dataframe tbody tr th {\n",
       "        vertical-align: top;\n",
       "    }\n",
       "\n",
       "    .dataframe thead th {\n",
       "        text-align: right;\n",
       "    }\n",
       "</style>\n",
       "<table border=\"1\" class=\"dataframe\">\n",
       "  <thead>\n",
       "    <tr style=\"text-align: right;\">\n",
       "      <th></th>\n",
       "      <th>Restaurant ID</th>\n",
       "      <th>Restaurant Name</th>\n",
       "      <th>Country Code</th>\n",
       "      <th>City</th>\n",
       "      <th>Address</th>\n",
       "      <th>Locality</th>\n",
       "      <th>Locality Verbose</th>\n",
       "      <th>Longitude</th>\n",
       "      <th>Latitude</th>\n",
       "      <th>Cuisines</th>\n",
       "      <th>...</th>\n",
       "      <th>Has Table booking</th>\n",
       "      <th>Has Online delivery</th>\n",
       "      <th>Is delivering now</th>\n",
       "      <th>Switch to order menu</th>\n",
       "      <th>Price range</th>\n",
       "      <th>Aggregate rating</th>\n",
       "      <th>Rating color</th>\n",
       "      <th>Rating text</th>\n",
       "      <th>Votes</th>\n",
       "      <th>Country</th>\n",
       "    </tr>\n",
       "  </thead>\n",
       "  <tbody>\n",
       "    <tr>\n",
       "      <th>3329</th>\n",
       "      <td>18388132</td>\n",
       "      <td>TiffinToons</td>\n",
       "      <td>1</td>\n",
       "      <td>New Delhi</td>\n",
       "      <td>A1, New Gupta Colony, Delhi University-GTB Nag...</td>\n",
       "      <td>Delhi University-GTB Nagar</td>\n",
       "      <td>Delhi University-GTB Nagar, New Delhi</td>\n",
       "      <td>77.194615</td>\n",
       "      <td>28.692486</td>\n",
       "      <td>North Indian, South Indian</td>\n",
       "      <td>...</td>\n",
       "      <td>No</td>\n",
       "      <td>No</td>\n",
       "      <td>No</td>\n",
       "      <td>No</td>\n",
       "      <td>1</td>\n",
       "      <td>0.0</td>\n",
       "      <td>White</td>\n",
       "      <td>Not rated</td>\n",
       "      <td>0</td>\n",
       "      <td>India</td>\n",
       "    </tr>\n",
       "    <tr>\n",
       "      <th>9538</th>\n",
       "      <td>5901782</td>\n",
       "      <td>Starbucks</td>\n",
       "      <td>208</td>\n",
       "      <td>ÛÁstanbul</td>\n",
       "      <td>Bebek Mahallesi, Cevdetpaôa Caddesi, No 30/A,...</td>\n",
       "      <td>Bebek</td>\n",
       "      <td>Bebek, ÛÁstanbul</td>\n",
       "      <td>29.043734</td>\n",
       "      <td>41.077696</td>\n",
       "      <td>Cafe</td>\n",
       "      <td>...</td>\n",
       "      <td>No</td>\n",
       "      <td>No</td>\n",
       "      <td>No</td>\n",
       "      <td>No</td>\n",
       "      <td>2</td>\n",
       "      <td>4.9</td>\n",
       "      <td>Dark Green</td>\n",
       "      <td>Excellent</td>\n",
       "      <td>1042</td>\n",
       "      <td>Turkey</td>\n",
       "    </tr>\n",
       "    <tr>\n",
       "      <th>4103</th>\n",
       "      <td>302836</td>\n",
       "      <td>Dewan Sweets</td>\n",
       "      <td>1</td>\n",
       "      <td>New Delhi</td>\n",
       "      <td>1, Pocket F, G-8 Area, Hari Nagar, Jail Road, ...</td>\n",
       "      <td>Jail Road</td>\n",
       "      <td>Jail Road, New Delhi</td>\n",
       "      <td>77.110838</td>\n",
       "      <td>28.619639</td>\n",
       "      <td>Desserts, Street Food</td>\n",
       "      <td>...</td>\n",
       "      <td>No</td>\n",
       "      <td>Yes</td>\n",
       "      <td>No</td>\n",
       "      <td>No</td>\n",
       "      <td>1</td>\n",
       "      <td>3.3</td>\n",
       "      <td>Orange</td>\n",
       "      <td>Average</td>\n",
       "      <td>18</td>\n",
       "      <td>India</td>\n",
       "    </tr>\n",
       "    <tr>\n",
       "      <th>5152</th>\n",
       "      <td>3043</td>\n",
       "      <td>Shaolin</td>\n",
       "      <td>1</td>\n",
       "      <td>New Delhi</td>\n",
       "      <td>2/30, Shivalik Geetanjali Road, Malviya Nagar,...</td>\n",
       "      <td>Malviya Nagar</td>\n",
       "      <td>Malviya Nagar, New Delhi</td>\n",
       "      <td>77.206923</td>\n",
       "      <td>28.534143</td>\n",
       "      <td>Chinese</td>\n",
       "      <td>...</td>\n",
       "      <td>No</td>\n",
       "      <td>Yes</td>\n",
       "      <td>No</td>\n",
       "      <td>No</td>\n",
       "      <td>2</td>\n",
       "      <td>3.4</td>\n",
       "      <td>Orange</td>\n",
       "      <td>Average</td>\n",
       "      <td>217</td>\n",
       "      <td>India</td>\n",
       "    </tr>\n",
       "    <tr>\n",
       "      <th>6911</th>\n",
       "      <td>311326</td>\n",
       "      <td>SS ONN THE GO</td>\n",
       "      <td>1</td>\n",
       "      <td>New Delhi</td>\n",
       "      <td>My Square Food Court, Select City Walk, Saket,...</td>\n",
       "      <td>Saket</td>\n",
       "      <td>Saket, New Delhi</td>\n",
       "      <td>77.219656</td>\n",
       "      <td>28.529138</td>\n",
       "      <td>Street Food</td>\n",
       "      <td>...</td>\n",
       "      <td>No</td>\n",
       "      <td>No</td>\n",
       "      <td>No</td>\n",
       "      <td>No</td>\n",
       "      <td>2</td>\n",
       "      <td>3.6</td>\n",
       "      <td>Yellow</td>\n",
       "      <td>Good</td>\n",
       "      <td>66</td>\n",
       "      <td>India</td>\n",
       "    </tr>\n",
       "  </tbody>\n",
       "</table>\n",
       "<p>5 rows × 22 columns</p>\n",
       "</div>"
      ],
      "text/plain": [
       "      Restaurant ID Restaurant Name  Country Code       City  \\\n",
       "3329       18388132     TiffinToons             1  New Delhi   \n",
       "9538        5901782       Starbucks           208  ÛÁstanbul   \n",
       "4103         302836    Dewan Sweets             1  New Delhi   \n",
       "5152           3043         Shaolin             1  New Delhi   \n",
       "6911         311326   SS ONN THE GO             1  New Delhi   \n",
       "\n",
       "                                                Address  \\\n",
       "3329  A1, New Gupta Colony, Delhi University-GTB Nag...   \n",
       "9538  Bebek Mahallesi, Cevdetpaôa Caddesi, No 30/A,...   \n",
       "4103  1, Pocket F, G-8 Area, Hari Nagar, Jail Road, ...   \n",
       "5152  2/30, Shivalik Geetanjali Road, Malviya Nagar,...   \n",
       "6911  My Square Food Court, Select City Walk, Saket,...   \n",
       "\n",
       "                        Locality                       Locality Verbose  \\\n",
       "3329  Delhi University-GTB Nagar  Delhi University-GTB Nagar, New Delhi   \n",
       "9538                       Bebek                       Bebek, ÛÁstanbul   \n",
       "4103                   Jail Road                   Jail Road, New Delhi   \n",
       "5152               Malviya Nagar               Malviya Nagar, New Delhi   \n",
       "6911                       Saket                       Saket, New Delhi   \n",
       "\n",
       "      Longitude   Latitude                    Cuisines  ...  \\\n",
       "3329  77.194615  28.692486  North Indian, South Indian  ...   \n",
       "9538  29.043734  41.077696                        Cafe  ...   \n",
       "4103  77.110838  28.619639       Desserts, Street Food  ...   \n",
       "5152  77.206923  28.534143                     Chinese  ...   \n",
       "6911  77.219656  28.529138                 Street Food  ...   \n",
       "\n",
       "      Has Table booking Has Online delivery Is delivering now  \\\n",
       "3329                 No                  No                No   \n",
       "9538                 No                  No                No   \n",
       "4103                 No                 Yes                No   \n",
       "5152                 No                 Yes                No   \n",
       "6911                 No                  No                No   \n",
       "\n",
       "     Switch to order menu Price range Aggregate rating  Rating color  \\\n",
       "3329                   No           1              0.0         White   \n",
       "9538                   No           2              4.9    Dark Green   \n",
       "4103                   No           1              3.3        Orange   \n",
       "5152                   No           2              3.4        Orange   \n",
       "6911                   No           2              3.6        Yellow   \n",
       "\n",
       "      Rating text Votes Country  \n",
       "3329    Not rated     0   India  \n",
       "9538    Excellent  1042  Turkey  \n",
       "4103      Average    18   India  \n",
       "5152      Average   217   India  \n",
       "6911         Good    66   India  \n",
       "\n",
       "[5 rows x 22 columns]"
      ]
     },
     "execution_count": 11,
     "metadata": {},
     "output_type": "execute_result"
    }
   ],
   "source": [
    "zomato.sample(5)"
   ]
  },
  {
   "cell_type": "markdown",
   "id": "6c3c2bc2",
   "metadata": {},
   "source": [
    "## Visualization"
   ]
  },
  {
   "cell_type": "markdown",
   "id": "2ebdc286",
   "metadata": {
    "scrolled": true
   },
   "source": [
    "### Online Delivery Counts "
   ]
  },
  {
   "cell_type": "code",
   "execution_count": 19,
   "id": "cd76013f",
   "metadata": {},
   "outputs": [
    {
     "data": {
      "image/png": "[encoded data removed]",
      "text/plain": [
       "<Figure size 576x360 with 1 Axes>"
      ]
     },
     "metadata": {
      "needs_background": "light"
     },
     "output_type": "display_data"
    }
   ],
   "source": [
    "plt.figure(figsize=(8,5))\n",
    "ax=zomato['Has Online delivery'].value_counts().plot(kind='bar',color=['red','green'])\n",
    "for i in ax.containers:\n",
    "    ax.bar_label(i)\n",
    "plt.xlabel('Has Online Delivery')\n",
    "plt.ylabel('Count')\n",
    "plt.title('Restaurants Having Online Delivery')\n",
    "plt.show()"
   ]
  },
  {
   "cell_type": "code",
   "execution_count": 49,
   "id": "50396140",
   "metadata": {},
   "outputs": [
    {
     "data": {
      "text/plain": [
       "No     7100\n",
       "Yes    2451\n",
       "Name: Has Online delivery, dtype: int64"
      ]
     },
     "execution_count": 49,
     "metadata": {},
     "output_type": "execute_result"
    }
   ],
   "source": [
    "zomato['Has Online delivery'].value_counts()"
   ]
  },
  {
   "cell_type": "code",
   "execution_count": 22,
   "id": "f1b055ac",
   "metadata": {},
   "outputs": [
    {
     "data": {
      "image/png": "[encoded data removed]",
      "text/plain": [
       "<Figure size 432x288 with 1 Axes>"
      ]
     },
     "metadata": {},
     "output_type": "display_data"
    }
   ],
   "source": [
    "zomato['Has Online delivery'].value_counts().plot(kind='pie',autopct=\"%0.2f%%\",explode=[0,0.1],startangle=90)\n",
    "plt.title('Restaurants Having Online Delivery')\n",
    "plt.show()"
   ]
  },
  {
   "cell_type": "markdown",
   "id": "0e490ea6",
   "metadata": {},
   "source": [
    "### Restaurants Having Table Booking in India"
   ]
  },
  {
   "cell_type": "code",
   "execution_count": 33,
   "id": "bbcd5df8",
   "metadata": {},
   "outputs": [],
   "source": [
    "#Filtering data for country india\n",
    "india=zomato[zomato['Country']=='India'].reset_index(drop=True)"
   ]
  },
  {
   "cell_type": "code",
   "execution_count": 26,
   "id": "f354a8c2",
   "metadata": {
    "scrolled": true
   },
   "outputs": [
    {
     "data": {
      "image/png": "[encoded data removed]",
      "text/plain": [
       "<Figure size 432x288 with 1 Axes>"
      ]
     },
     "metadata": {
      "needs_background": "light"
     },
     "output_type": "display_data"
    }
   ],
   "source": [
    "ax=india['Has Table booking'].value_counts().plot(kind='bar',color=['red','green'])\n",
    "for i in ax.containers:\n",
    "    ax.bar_label(i)\n",
    "plt.xlabel('Has Table booking')\n",
    "plt.ylabel('Count')\n",
    "plt.title(\"Restaurants Having Table Booking in India\")\n",
    "plt.show()"
   ]
  },
  {
   "cell_type": "code",
   "execution_count": 16,
   "id": "5ea40276",
   "metadata": {},
   "outputs": [
    {
     "data": {
      "image/png": "[encoded data removed]",
      "text/plain": [
       "<Figure size 432x288 with 1 Axes>"
      ]
     },
     "metadata": {},
     "output_type": "display_data"
    }
   ],
   "source": [
    "india['Has Table booking'].value_counts().plot(kind='pie',autopct=\"%0.2f%%\",explode=[0,0.2])\n",
    "plt.title('Restaurants Having Table Booking in India')\n",
    "plt.show()"
   ]
  },
  {
   "cell_type": "markdown",
   "id": "ced8453c",
   "metadata": {},
   "source": [
    "### Restaurants With Most Branches in India"
   ]
  },
  {
   "cell_type": "code",
   "execution_count": 17,
   "id": "3993c86d",
   "metadata": {
    "scrolled": true
   },
   "outputs": [
    {
     "data": {
      "image/png": "[encoded data removed]",
      "text/plain": [
       "<Figure size 432x288 with 1 Axes>"
      ]
     },
     "metadata": {
      "needs_background": "light"
     },
     "output_type": "display_data"
    }
   ],
   "source": [
    "india['Restaurant Name'].value_counts().head().plot(kind='bar',color=['r','g','b','y','violet'])\n",
    "plt.xlabel('Name of Restaurant')\n",
    "plt.ylabel('Number of Branches')\n",
    "plt.title(\"Restaurants With Most Branches in India\")\n",
    "plt.show()"
   ]
  },
  {
   "cell_type": "markdown",
   "id": "bac73293",
   "metadata": {},
   "source": [
    "### Country Wise Online Delivery"
   ]
  },
  {
   "cell_type": "code",
   "execution_count": 18,
   "id": "01955372",
   "metadata": {},
   "outputs": [
    {
     "data": {
      "image/png": "[encoded data removed]",
      "text/plain": [
       "<Figure size 432x288 with 1 Axes>"
      ]
     },
     "metadata": {
      "needs_background": "light"
     },
     "output_type": "display_data"
    }
   ],
   "source": [
    "pd.crosstab(zomato['Country'],zomato['Has Online delivery']).plot(kind='bar')\n",
    "plt.show()"
   ]
  },
  {
   "cell_type": "code",
   "execution_count": 27,
   "id": "a82dfd5b",
   "metadata": {},
   "outputs": [],
   "source": [
    "#grouping data by country india\n",
    "g1=zomato.groupby(zomato['Country'])"
   ]
  },
  {
   "cell_type": "code",
   "execution_count": 46,
   "id": "aca36e32",
   "metadata": {},
   "outputs": [
    {
     "data": {
      "text/plain": [
       "array(['Agra', 'Ahmedabad', 'Allahabad', 'Amritsar', 'Aurangabad',\n",
       "       'Bangalore', 'Bhopal', 'Bhubaneshwar', 'Chandigarh', 'Chennai',\n",
       "       'Coimbatore', 'Dehradun', 'Faridabad', 'Ghaziabad', 'Goa',\n",
       "       'Gurgaon', 'Guwahati', 'Hyderabad', 'Indore', 'Jaipur', 'Kanpur',\n",
       "       'Kochi', 'Kolkata', 'Lucknow', 'Ludhiana', 'Mangalore', 'Mohali',\n",
       "       'Mumbai', 'Mysore', 'Nagpur', 'Nashik', 'New Delhi', 'Noida',\n",
       "       'Panchkula', 'Patna', 'Puducherry', 'Pune', 'Ranchi',\n",
       "       'Secunderabad', 'Surat', 'Vadodara', 'Varanasi', 'Vizag'],\n",
       "      dtype=object)"
      ]
     },
     "execution_count": 46,
     "metadata": {},
     "output_type": "execute_result"
    }
   ],
   "source": [
    "#Finding unique cities in india\n",
    "g1.get_group('India')['City'].unique()"
   ]
  },
  {
   "cell_type": "code",
   "execution_count": 34,
   "id": "55dfba8f",
   "metadata": {},
   "outputs": [
    {
     "data": {
      "text/html": [
       "<div>\n",
       "<style scoped>\n",
       "    .dataframe tbody tr th:only-of-type {\n",
       "        vertical-align: middle;\n",
       "    }\n",
       "\n",
       "    .dataframe tbody tr th {\n",
       "        vertical-align: top;\n",
       "    }\n",
       "\n",
       "    .dataframe thead th {\n",
       "        text-align: right;\n",
       "    }\n",
       "</style>\n",
       "<table border=\"1\" class=\"dataframe\">\n",
       "  <thead>\n",
       "    <tr style=\"text-align: right;\">\n",
       "      <th></th>\n",
       "      <th>Restaurant ID</th>\n",
       "      <th>Restaurant Name</th>\n",
       "      <th>Country Code</th>\n",
       "      <th>City</th>\n",
       "      <th>Address</th>\n",
       "      <th>Locality</th>\n",
       "      <th>Locality Verbose</th>\n",
       "      <th>Longitude</th>\n",
       "      <th>Latitude</th>\n",
       "      <th>Cuisines</th>\n",
       "      <th>Average Cost for two</th>\n",
       "      <th>Currency</th>\n",
       "      <th>Has Table booking</th>\n",
       "      <th>Has Online delivery</th>\n",
       "      <th>Is delivering now</th>\n",
       "      <th>Switch to order menu</th>\n",
       "      <th>Price range</th>\n",
       "      <th>Aggregate rating</th>\n",
       "      <th>Rating color</th>\n",
       "      <th>Rating text</th>\n",
       "      <th>Votes</th>\n",
       "      <th>Country</th>\n",
       "    </tr>\n",
       "  </thead>\n",
       "  <tbody>\n",
       "    <tr>\n",
       "      <th>0</th>\n",
       "      <td>3400025</td>\n",
       "      <td>Jahanpanah</td>\n",
       "      <td>1</td>\n",
       "      <td>Agra</td>\n",
       "      <td>E 23, Shopping Arcade, Sadar Bazaar, Agra Cant...</td>\n",
       "      <td>Agra Cantt</td>\n",
       "      <td>Agra Cantt, Agra</td>\n",
       "      <td>78.011544</td>\n",
       "      <td>27.161661</td>\n",
       "      <td>North Indian, Mughlai</td>\n",
       "      <td>850</td>\n",
       "      <td>Indian Rupees(Rs.)</td>\n",
       "      <td>No</td>\n",
       "      <td>No</td>\n",
       "      <td>No</td>\n",
       "      <td>No</td>\n",
       "      <td>3</td>\n",
       "      <td>3.9</td>\n",
       "      <td>Yellow</td>\n",
       "      <td>Good</td>\n",
       "      <td>140</td>\n",
       "      <td>India</td>\n",
       "    </tr>\n",
       "    <tr>\n",
       "      <th>1</th>\n",
       "      <td>3400341</td>\n",
       "      <td>Rangrezz Restaurant</td>\n",
       "      <td>1</td>\n",
       "      <td>Agra</td>\n",
       "      <td>E-20, Shopping Arcade, Sadar Bazaar, Agra Cant...</td>\n",
       "      <td>Agra Cantt</td>\n",
       "      <td>Agra Cantt, Agra</td>\n",
       "      <td>0.000000</td>\n",
       "      <td>0.000000</td>\n",
       "      <td>North Indian, Mughlai</td>\n",
       "      <td>700</td>\n",
       "      <td>Indian Rupees(Rs.)</td>\n",
       "      <td>No</td>\n",
       "      <td>No</td>\n",
       "      <td>No</td>\n",
       "      <td>No</td>\n",
       "      <td>2</td>\n",
       "      <td>3.5</td>\n",
       "      <td>Yellow</td>\n",
       "      <td>Good</td>\n",
       "      <td>71</td>\n",
       "      <td>India</td>\n",
       "    </tr>\n",
       "    <tr>\n",
       "      <th>2</th>\n",
       "      <td>3400005</td>\n",
       "      <td>Time2Eat - Mama Chicken</td>\n",
       "      <td>1</td>\n",
       "      <td>Agra</td>\n",
       "      <td>Main Market, Sadar Bazaar, Agra Cantt, Agra</td>\n",
       "      <td>Agra Cantt</td>\n",
       "      <td>Agra Cantt, Agra</td>\n",
       "      <td>78.011608</td>\n",
       "      <td>27.160832</td>\n",
       "      <td>North Indian</td>\n",
       "      <td>500</td>\n",
       "      <td>Indian Rupees(Rs.)</td>\n",
       "      <td>No</td>\n",
       "      <td>No</td>\n",
       "      <td>No</td>\n",
       "      <td>No</td>\n",
       "      <td>2</td>\n",
       "      <td>3.6</td>\n",
       "      <td>Yellow</td>\n",
       "      <td>Good</td>\n",
       "      <td>94</td>\n",
       "      <td>India</td>\n",
       "    </tr>\n",
       "    <tr>\n",
       "      <th>3</th>\n",
       "      <td>3400021</td>\n",
       "      <td>Chokho Jeeman Marwari Jain Bhojanalya</td>\n",
       "      <td>1</td>\n",
       "      <td>Agra</td>\n",
       "      <td>1/48, Delhi Gate, Station Road, Raja Mandi, Ci...</td>\n",
       "      <td>Civil Lines</td>\n",
       "      <td>Civil Lines, Agra</td>\n",
       "      <td>77.998092</td>\n",
       "      <td>27.195928</td>\n",
       "      <td>Rajasthani</td>\n",
       "      <td>400</td>\n",
       "      <td>Indian Rupees(Rs.)</td>\n",
       "      <td>No</td>\n",
       "      <td>No</td>\n",
       "      <td>No</td>\n",
       "      <td>No</td>\n",
       "      <td>2</td>\n",
       "      <td>4.0</td>\n",
       "      <td>Green</td>\n",
       "      <td>Very Good</td>\n",
       "      <td>87</td>\n",
       "      <td>India</td>\n",
       "    </tr>\n",
       "    <tr>\n",
       "      <th>4</th>\n",
       "      <td>3400017</td>\n",
       "      <td>Pinch Of Spice</td>\n",
       "      <td>1</td>\n",
       "      <td>Agra</td>\n",
       "      <td>23/453, Opposite Sanjay Cinema, Wazipura Road,...</td>\n",
       "      <td>Civil Lines</td>\n",
       "      <td>Civil Lines, Agra</td>\n",
       "      <td>78.007553</td>\n",
       "      <td>27.201725</td>\n",
       "      <td>North Indian, Chinese, Mughlai</td>\n",
       "      <td>1000</td>\n",
       "      <td>Indian Rupees(Rs.)</td>\n",
       "      <td>No</td>\n",
       "      <td>No</td>\n",
       "      <td>No</td>\n",
       "      <td>No</td>\n",
       "      <td>3</td>\n",
       "      <td>4.2</td>\n",
       "      <td>Green</td>\n",
       "      <td>Very Good</td>\n",
       "      <td>177</td>\n",
       "      <td>India</td>\n",
       "    </tr>\n",
       "  </tbody>\n",
       "</table>\n",
       "</div>"
      ],
      "text/plain": [
       "   Restaurant ID                        Restaurant Name  Country Code  City  \\\n",
       "0        3400025                             Jahanpanah             1  Agra   \n",
       "1        3400341                    Rangrezz Restaurant             1  Agra   \n",
       "2        3400005                Time2Eat - Mama Chicken             1  Agra   \n",
       "3        3400021  Chokho Jeeman Marwari Jain Bhojanalya             1  Agra   \n",
       "4        3400017                         Pinch Of Spice             1  Agra   \n",
       "\n",
       "                                             Address     Locality  \\\n",
       "0  E 23, Shopping Arcade, Sadar Bazaar, Agra Cant...   Agra Cantt   \n",
       "1  E-20, Shopping Arcade, Sadar Bazaar, Agra Cant...   Agra Cantt   \n",
       "2        Main Market, Sadar Bazaar, Agra Cantt, Agra   Agra Cantt   \n",
       "3  1/48, Delhi Gate, Station Road, Raja Mandi, Ci...  Civil Lines   \n",
       "4  23/453, Opposite Sanjay Cinema, Wazipura Road,...  Civil Lines   \n",
       "\n",
       "    Locality Verbose  Longitude   Latitude                        Cuisines  \\\n",
       "0   Agra Cantt, Agra  78.011544  27.161661           North Indian, Mughlai   \n",
       "1   Agra Cantt, Agra   0.000000   0.000000           North Indian, Mughlai   \n",
       "2   Agra Cantt, Agra  78.011608  27.160832                    North Indian   \n",
       "3  Civil Lines, Agra  77.998092  27.195928                      Rajasthani   \n",
       "4  Civil Lines, Agra  78.007553  27.201725  North Indian, Chinese, Mughlai   \n",
       "\n",
       "   Average Cost for two            Currency Has Table booking  \\\n",
       "0                   850  Indian Rupees(Rs.)                No   \n",
       "1                   700  Indian Rupees(Rs.)                No   \n",
       "2                   500  Indian Rupees(Rs.)                No   \n",
       "3                   400  Indian Rupees(Rs.)                No   \n",
       "4                  1000  Indian Rupees(Rs.)                No   \n",
       "\n",
       "  Has Online delivery Is delivering now Switch to order menu  Price range  \\\n",
       "0                  No                No                   No            3   \n",
       "1                  No                No                   No            2   \n",
       "2                  No                No                   No            2   \n",
       "3                  No                No                   No            2   \n",
       "4                  No                No                   No            3   \n",
       "\n",
       "   Aggregate rating Rating color Rating text  Votes Country  \n",
       "0               3.9       Yellow        Good    140   India  \n",
       "1               3.5       Yellow        Good     71   India  \n",
       "2               3.6       Yellow        Good     94   India  \n",
       "3               4.0        Green   Very Good     87   India  \n",
       "4               4.2        Green   Very Good    177   India  "
      ]
     },
     "execution_count": 34,
     "metadata": {},
     "output_type": "execute_result"
    }
   ],
   "source": [
    "#Displaying all columns using set_option parameter\n",
    "pd.set_option('display.max_columns',None)\n",
    "india.head()"
   ]
  },
  {
   "cell_type": "markdown",
   "id": "7bdcba36",
   "metadata": {},
   "source": [
    "### Cities and Restaurant Count"
   ]
  },
  {
   "cell_type": "code",
   "execution_count": 35,
   "id": "bd78d46d",
   "metadata": {
    "scrolled": true
   },
   "outputs": [
    {
     "data": {
      "image/png": "[encoded data removed]",
      "text/plain": [
       "<Figure size 432x288 with 1 Axes>"
      ]
     },
     "metadata": {
      "needs_background": "light"
     },
     "output_type": "display_data"
    }
   ],
   "source": [
    "ax=india['City'].value_counts().head(5).plot(kind='bar',color=['b','r','k','purple','orange'])\n",
    "for i in ax.containers:\n",
    "    ax.bar_label(i)\n",
    "plt.title(\"Top 5 Cities Having Most No. of Restaurants in India\")\n",
    "plt.xlabel('Cites')\n",
    "plt.ylabel('No. of Restaurants')\n",
    "plt.show()"
   ]
  },
  {
   "cell_type": "markdown",
   "id": "94196fba",
   "metadata": {},
   "source": [
    "### Average cost for two for Restaurants in India"
   ]
  },
  {
   "cell_type": "code",
   "execution_count": 62,
   "id": "e1df33a4",
   "metadata": {},
   "outputs": [
    {
     "data": {
      "image/png": "[encoded data removed]",
      "text/plain": [
       "<Figure size 432x288 with 1 Axes>"
      ]
     },
     "metadata": {
      "needs_background": "light"
     },
     "output_type": "display_data"
    }
   ],
   "source": [
    "sns.kdeplot(data=india,x='Average Cost for two')\n",
    "plt.show()"
   ]
  },
  {
   "cell_type": "code",
   "execution_count": 34,
   "id": "9aeb2850",
   "metadata": {},
   "outputs": [
    {
     "data": {
      "image/png": "[encoded data removed]",
      "text/plain": [
       "<Figure size 432x288 with 1 Axes>"
      ]
     },
     "metadata": {
      "needs_background": "light"
     },
     "output_type": "display_data"
    }
   ],
   "source": [
    "sns.boxenplot(data=india,x='Average Cost for two')\n",
    "plt.title('With Outliers')\n",
    "plt.show()"
   ]
  },
  {
   "cell_type": "code",
   "execution_count": 67,
   "id": "65659cef",
   "metadata": {
    "scrolled": true
   },
   "outputs": [
    {
     "name": "stdout",
     "output_type": "stream",
     "text": [
      "Average Cost for Two persons in India:- 500\n"
     ]
    }
   ],
   "source": [
    "print(\"Average Cost for Two persons in India:-\",india['Average Cost for two'].aggregate('mode')[0])"
   ]
  },
  {
   "cell_type": "markdown",
   "id": "a27e6b62",
   "metadata": {},
   "source": [
    "### Restaurant Count Per Country"
   ]
  },
  {
   "cell_type": "code",
   "execution_count": 38,
   "id": "51352051",
   "metadata": {},
   "outputs": [
    {
     "data": {
      "image/png": "[encoded data removed]",
      "text/plain": [
       "<Figure size 432x288 with 1 Axes>"
      ]
     },
     "metadata": {
      "needs_background": "light"
     },
     "output_type": "display_data"
    }
   ],
   "source": [
    "zomato['Country'].value_counts().plot(kind='bar')\n",
    "plt.title(\"Restaurant Count Per Country\")\n",
    "plt.xlabel(\"Countries\")\n",
    "plt.ylabel(\"Number of Restaurants\")\n",
    "plt.show()"
   ]
  },
  {
   "cell_type": "markdown",
   "id": "66c8703c",
   "metadata": {},
   "source": [
    "### Top 5 Cuisines in india"
   ]
  },
  {
   "cell_type": "code",
   "execution_count": 39,
   "id": "64e45f70",
   "metadata": {},
   "outputs": [
    {
     "data": {
      "image/png": "[encoded data removed]",
      "text/plain": [
       "<Figure size 432x288 with 1 Axes>"
      ]
     },
     "metadata": {
      "needs_background": "light"
     },
     "output_type": "display_data"
    }
   ],
   "source": [
    "india['Cuisines'].value_counts().head().plot(kind='bar',color=['orange','green','red','yellow','purple'])\n",
    "plt.xlabel('Cuisins')\n",
    "plt.ylabel('Count')\n",
    "plt.title('Top 5 Cuisines in india')\n",
    "plt.show()"
   ]
  },
  {
   "cell_type": "markdown",
   "id": "f663c813",
   "metadata": {},
   "source": [
    "### Most Rated Restaurants in India"
   ]
  },
  {
   "cell_type": "code",
   "execution_count": 41,
   "id": "86638c80",
   "metadata": {},
   "outputs": [],
   "source": [
    "aggr=india.sort_values(['Aggregate rating','Votes'],\n",
    "                       ascending=[False,False]).groupby(['Restaurant Name','Aggregate rating']).head(10)"
   ]
  },
  {
   "cell_type": "code",
   "execution_count": 42,
   "id": "66f67702",
   "metadata": {},
   "outputs": [
    {
     "data": {
      "image/png": "[encoded data removed]",
      "text/plain": [
       "<Figure size 432x288 with 1 Axes>"
      ]
     },
     "metadata": {
      "needs_background": "light"
     },
     "output_type": "display_data"
    }
   ],
   "source": [
    "x=sns.barplot(data=aggr.head(10),x='Restaurant Name',y='Aggregate rating')\n",
    "plt.title(\"Top 7 Rated Restaurants in India\")\n",
    "for item in x.get_xticklabels():\n",
    "    item.set_rotation(90)\n",
    "plt.show()"
   ]
  },
  {
   "cell_type": "markdown",
   "id": "130a8a4a",
   "metadata": {},
   "source": [
    "### Restaurants Having Online Delivery in India"
   ]
  },
  {
   "cell_type": "code",
   "execution_count": 77,
   "id": "d183ded7",
   "metadata": {},
   "outputs": [
    {
     "data": {
      "image/png": "[encoded data removed]",
      "text/plain": [
       "<Figure size 432x288 with 1 Axes>"
      ]
     },
     "metadata": {
      "needs_background": "light"
     },
     "output_type": "display_data"
    }
   ],
   "source": [
    "ax=india['Has Online delivery'].value_counts().plot(kind='bar',color=['red','green'])\n",
    "plt.xlabel('Has Online Delivery')\n",
    "plt.title('Restaurants Having Online Delivery in India')\n",
    "plt.ylabel('Count')\n",
    "for i in ax.containers:\n",
    "    ax.bar_label(i)\n",
    "plt.show()"
   ]
  },
  {
   "cell_type": "code",
   "execution_count": 79,
   "id": "437b09d3",
   "metadata": {},
   "outputs": [
    {
     "data": {
      "image/png": "[encoded data removed]",
      "text/plain": [
       "<Figure size 432x288 with 1 Axes>"
      ]
     },
     "metadata": {},
     "output_type": "display_data"
    }
   ],
   "source": [
    "india['Has Online delivery'].value_counts().plot(kind='pie',autopct=\"%0.2f%%\",explode=[0,0.1],startangle=90)\n",
    "plt.title('Restaurants Having Online Delivery in India')\n",
    "plt.show()"
   ]
  },
  {
   "attachments": {},
   "cell_type": "markdown",
   "id": "86083d99",
   "metadata": {},
   "source": [
    "## By Visualizing the data we get to know about some useful insights like:\n",
    "* From the given group of countries **India** has most restaurants, so company should focus on expanding its business in India.  \n",
    "* Even though India has lots of restaurants, very few restaurants have feature of **online delivery**.   \n",
    "* Among the cities in India **New Delhi** has highest number of restaurants.  \n",
    "* **North Indian Cuisines** are in high demand in India.   "
   ]
  },
  {
   "attachments": {},
   "cell_type": "markdown",
   "id": "5c870186",
   "metadata": {},
   "source": [
    "## After Analyzing above insights company should focus on following points:\n",
    "* As large number of Restaurants is not using online delivery yet, company need to focus on collaborating with these restaurants in order to expand business.\n",
    "* As New Delhi has highest number of restaurants, company must try to collaborate with these restaurants and it should also appoint big group of delivery boys in order to handle all the deliveries in New Delhi area.\n",
    "* Local cuisines like North Indian are preferred by large group of individuals. so company should provide some discount on these dishes in order to attract large group of individuals."
   ]
  },
  {
   "cell_type": "markdown",
   "id": "39be7e0a",
   "metadata": {},
   "source": [
    "## Thank You For Visiting"
   ]
  }
 ],
 "metadata": {
  "kernelspec": {
   "display_name": "Python 3 (ipykernel)",
   "language": "python",
   "name": "python3"
  },
  "language_info": {
   "codemirror_mode": {
    "name": "ipython",
    "version": 3
   },
   "file_extension": ".py",
   "mimetype": "text/x-python",
   "name": "python",
   "nbconvert_exporter": "python",
   "pygments_lexer": "ipython3",
   "version": "3.9.12"
  }
 },
 "nbformat": 4,
 "nbformat_minor": 5
}
